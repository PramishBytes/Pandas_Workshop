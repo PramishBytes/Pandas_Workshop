{
 "cells": [
  {
   "cell_type": "markdown",
   "id": "43d0ac5d-e2e6-42e7-83aa-7f33c3bcdde0",
   "metadata": {},
   "source": [
    "## DataFrame\n",
    "__Pandas DataFrame is a two-dimensional data structure with labeled axes(rows and columns). It is created by loading the datasets from existing storage which can be a SQL database, a CSV file or an Excel file. It can be created from lists, dictionaries, a list of dictionaries etc.__\n"
   ]
  },
  {
   "cell_type": "code",
   "execution_count": 4,
   "id": "e8625688-3cb9-49d6-9c2e-83b4b7825a0b",
   "metadata": {},
   "outputs": [
    {
     "name": "stdout",
     "output_type": "stream",
     "text": [
      "<class 'pandas.core.frame.DataFrame'>\n"
     ]
    }
   ],
   "source": [
    "import pandas as pd\n",
    "l = [1,2,3,4,5,6]\n",
    "var = pd.DataFrame(l)\n",
    "print(type(var))"
   ]
  },
  {
   "cell_type": "code",
   "execution_count": 5,
   "id": "d161c415-f57d-4953-a0f1-ccf8ea3337a4",
   "metadata": {},
   "outputs": [
    {
     "name": "stdout",
     "output_type": "stream",
     "text": [
      "<class 'pandas.core.frame.DataFrame'>\n",
      "   a  s\n",
      "0  1  1\n",
      "1  2  2\n",
      "2  3  3\n",
      "3  4  4\n",
      "4  5  5\n"
     ]
    }
   ],
   "source": [
    "d = {\"a\":[1,2,3,4,5],\"s\":[1,2,3,4,5]}\n",
    "var = pd.DataFrame(d)\n",
    "print(type(var))\n",
    "print(var)"
   ]
  },
  {
   "cell_type": "code",
   "execution_count": 6,
   "id": "b54cf7d9-bc2e-4324-b731-c014c4e9c163",
   "metadata": {},
   "outputs": [
    {
     "name": "stdout",
     "output_type": "stream",
     "text": [
      "<class 'pandas.core.frame.DataFrame'>\n",
      "   a  1\n",
      "0  1  1\n",
      "1  2  2\n",
      "2  3  3\n",
      "3  4  4\n",
      "4  5  5\n"
     ]
    }
   ],
   "source": [
    "d = {\"a\":[1,2,3,4,5],\"s\":[1,2,3,4,5],\"d\":[1,2,3,4,5],1:[1,2,3,4,5]}\n",
    "var = pd.DataFrame(d,columns =[\"a\",1])\n",
    "print(type(var))\n",
    "print(var)"
   ]
  },
  {
   "cell_type": "code",
   "execution_count": 7,
   "id": "d2ecd480-c040-489c-a954-8c2ca2fdaf9b",
   "metadata": {},
   "outputs": [
    {
     "name": "stdout",
     "output_type": "stream",
     "text": [
      "<class 'pandas.core.frame.DataFrame'>\n",
      "   a  1\n",
      "a  1  1\n",
      "s  2  2\n",
      "d  3  3\n",
      "f  4  4\n",
      "g  5  5\n"
     ]
    }
   ],
   "source": [
    "d = {\"a\":[1,2,3,4,5],\"s\":[1,2,3,4,5],\"d\":[1,2,3,4,5],1:[1,2,3,4,5]}\n",
    "var = pd.DataFrame(d,columns =[\"a\",1],index = [\"a\",\"s\",\"d\",\"f\",\"g\"])\n",
    "print(type(var))\n",
    "print(var)"
   ]
  },
  {
   "cell_type": "markdown",
   "id": "7648f9fa-8e43-4754-a371-516d06438fb7",
   "metadata": {},
   "source": [
    "## "
   ]
  },
  {
   "cell_type": "markdown",
   "id": "9c55fe2f-00f3-471e-a601-217e0c4316d5",
   "metadata": {},
   "source": [
    "__Get data from specific index__"
   ]
  },
  {
   "cell_type": "code",
   "execution_count": 9,
   "id": "8cb9f593-682f-4a95-b7db-9cff0717bdc0",
   "metadata": {},
   "outputs": [
    {
     "name": "stdout",
     "output_type": "stream",
     "text": [
      "   a  s  d  1\n",
      "0  1  1  1  1\n",
      "1  2  2  2  2\n",
      "2  3  3  3  3\n",
      "3  4  4  4  4\n",
      "4  5  5  5  5\n"
     ]
    }
   ],
   "source": [
    "var1 = pd.DataFrame(d)\n",
    "print(var1)\n"
   ]
  },
  {
   "cell_type": "code",
   "execution_count": 11,
   "id": "2d8760a5-60cc-4e16-a418-0939af5aa97f",
   "metadata": {},
   "outputs": [
    {
     "name": "stdout",
     "output_type": "stream",
     "text": [
      "4\n"
     ]
    }
   ],
   "source": [
    "print(var1[\"a\"][3])"
   ]
  },
  {
   "cell_type": "code",
   "execution_count": 13,
   "id": "640d685d-f1c8-443c-b958-44e6ef391777",
   "metadata": {},
   "outputs": [
    {
     "name": "stdout",
     "output_type": "stream",
     "text": [
      "<class 'pandas.core.frame.DataFrame'>\n",
      "   s  r\n",
      "0  1  1\n",
      "1  2  2\n",
      "2  3  3\n",
      "3  4  4\n"
     ]
    }
   ],
   "source": [
    "sr = {\"s\":pd.Series([1,2,3,4]),\"r\":pd.Series([1,2,3,4])}\n",
    "var3 = pd.DataFrame(sr)\n",
    "print(type(var3))\n",
    "print(var3)"
   ]
  }
 ],
 "metadata": {
  "kernelspec": {
   "display_name": "Python 3 (ipykernel)",
   "language": "python",
   "name": "python3"
  },
  "language_info": {
   "codemirror_mode": {
    "name": "ipython",
    "version": 3
   },
   "file_extension": ".py",
   "mimetype": "text/x-python",
   "name": "python",
   "nbconvert_exporter": "python",
   "pygments_lexer": "ipython3",
   "version": "3.13.2"
  }
 },
 "nbformat": 4,
 "nbformat_minor": 5
}
