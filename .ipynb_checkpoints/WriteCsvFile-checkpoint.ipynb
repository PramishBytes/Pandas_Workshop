{
 "cells": [
  {
   "cell_type": "markdown",
   "id": "2dca190f-98ed-4021-82a2-3e11a3d32f4b",
   "metadata": {},
   "source": [
    "## Write CSV file in Python Pandas"
   ]
  },
  {
   "cell_type": "markdown",
   "id": "869da9e1-e7bf-42fb-a4fd-2516c2b75c4a",
   "metadata": {},
   "source": [
    "__Differnces Between CSV and XLS(excel) file formats:__\n",
    "\n",
    "CSV format is a plain text format in which values are separated by commas(Comma Separated Values).\n",
    "\n",
    "XLS file format is an Excel Sheets binary file format which holds information about all the worksheets in a file, including both content and formatting"
   ]
  },
  {
   "cell_type": "markdown",
   "id": "53209ffe-3ded-4d07-8d3c-913eb92238a5",
   "metadata": {},
   "source": [
    "##"
   ]
  },
  {
   "cell_type": "code",
   "execution_count": 7,
   "id": "ea13f01b-e096-4d88-8f62-50ecf11ea251",
   "metadata": {},
   "outputs": [],
   "source": [
    "import pandas as pd\n",
    "\n",
    "dis = {\"a\":[1,2,3,4,5,6],\"s\":[1,2,3,4,5,6],}\n",
    "d = pd.DataFrame(dis)\n",
    "d.to_csv(\"test.csv\")"
   ]
  },
  {
   "cell_type": "code",
   "execution_count": 8,
   "id": "2117b738-2a03-4ed9-b217-c7b3c8fd9387",
   "metadata": {},
   "outputs": [
    {
     "name": "stdout",
     "output_type": "stream",
     "text": [
      "   a  s  d\n",
      "0  1  1  1\n",
      "1  2  2  2\n",
      "2  3  3  3\n",
      "3  4  4  4\n",
      "4  5  5  5\n",
      "5  6  6  6\n"
     ]
    }
   ],
   "source": [
    "dis = {\"a\":[1,2,3,4,5,6],\"s\":[1,2,3,4,5,6],\"d\":[1,2,3,4,5,6]}\n",
    "d = pd.DataFrame(dis)\n",
    "print(d)\n",
    "d.to_csv(\"Test_new1.csv\",index = False)"
   ]
  }
 ],
 "metadata": {
  "kernelspec": {
   "display_name": "Python 3 (ipykernel)",
   "language": "python",
   "name": "python3"
  },
  "language_info": {
   "codemirror_mode": {
    "name": "ipython",
    "version": 3
   },
   "file_extension": ".py",
   "mimetype": "text/x-python",
   "name": "python",
   "nbconvert_exporter": "python",
   "pygments_lexer": "ipython3",
   "version": "3.13.2"
  }
 },
 "nbformat": 4,
 "nbformat_minor": 5
}
