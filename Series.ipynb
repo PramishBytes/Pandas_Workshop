{
 "cells": [
  {
   "cell_type": "markdown",
   "id": "44d0b14c-afd1-46e0-bf48-e4fc2476f212",
   "metadata": {},
   "source": [
    "## Series\n",
    "\n",
    "__SYNTAX__ : pandas.Series(data= None,index = None, dtype = None,name = None,copy = False)\n",
    "\n",
    "Parameters: \n",
    "data: Array-like,dict or scalar-input data\n",
    "\n",
    "index:(optional): label for the axis\n",
    "\n",
    "dtype(optional): Data type of the series\n",
    "\n",
    "name(optional): Name of the Series\n",
    "\n",
    "copy(Bool): Copy data if True"
   ]
  },
  {
   "cell_type": "code",
   "execution_count": 1,
   "id": "69bc7f33-28f5-4b06-b1d8-2b9193ffb6dc",
   "metadata": {},
   "outputs": [
    {
     "name": "stdout",
     "output_type": "stream",
     "text": [
      "0    2\n",
      "1    3\n",
      "2    4\n",
      "3    5\n",
      "4    6\n",
      "5    7\n",
      "6    8\n",
      "7    9\n",
      "dtype: int64\n",
      "\n",
      "<class 'pandas.core.series.Series'>\n"
     ]
    }
   ],
   "source": [
    "import pandas as pd \n",
    "\n",
    "x = [2,3,4,5,6,7,8,9]\n",
    "var = pd.Series(x)\n",
    "print(var)\n",
    "print()\n",
    "print(type(var))"
   ]
  },
  {
   "cell_type": "code",
   "execution_count": 2,
   "id": "90b15119-d258-4926-b8a2-226a2ce109cf",
   "metadata": {},
   "outputs": [
    {
     "name": "stdout",
     "output_type": "stream",
     "text": [
      "a    3\n",
      "s    4\n",
      "d    5\n",
      "f    6\n",
      "dtype: int64\n",
      "<class 'pandas.core.series.Series'>\n",
      "5\n"
     ]
    },
    {
     "name": "stderr",
     "output_type": "stream",
     "text": [
      "/tmp/ipykernel_140851/1084005680.py:5: FutureWarning: Series.__getitem__ treating keys as positions is deprecated. In a future version, integer keys will always be treated as labels (consistent with DataFrame behavior). To access a value by position, use `ser.iloc[pos]`\n",
      "  print(var[2])\n"
     ]
    }
   ],
   "source": [
    "x = [3,4,5,6]\n",
    "var = pd.Series(x,index = ['a','s','d','f'])\n",
    "print(var)\n",
    "print(type(var))\n",
    "print(var[2])"
   ]
  },
  {
   "cell_type": "code",
   "execution_count": 3,
   "id": "6fcdcbb0-8a2f-479f-b59e-7a8754b4c670",
   "metadata": {},
   "outputs": [
    {
     "name": "stdout",
     "output_type": "stream",
     "text": [
      "a    3.0\n",
      "s    4.0\n",
      "d    5.0\n",
      "f    6.0\n",
      "Name: python, dtype: float64\n",
      "<class 'pandas.core.series.Series'>\n",
      "5\n"
     ]
    },
    {
     "name": "stderr",
     "output_type": "stream",
     "text": [
      "/tmp/ipykernel_140851/2314291412.py:4: FutureWarning: Series.__getitem__ treating keys as positions is deprecated. In a future version, integer keys will always be treated as labels (consistent with DataFrame behavior). To access a value by position, use `ser.iloc[pos]`\n",
      "  print(var[2])\n"
     ]
    }
   ],
   "source": [
    "var1 = pd.Series(x,index = ['a','s','d','f'],dtype= \"float\",name =\"python\")\n",
    "print(var1)\n",
    "print(type(var))\n",
    "print(var[2])\n"
   ]
  },
  {
   "cell_type": "code",
   "execution_count": 4,
   "id": "d45d4ac6-ce08-457a-bf5d-f8bb852a32e8",
   "metadata": {},
   "outputs": [
    {
     "name": "stdout",
     "output_type": "stream",
     "text": [
      "name    [python, c, c++, java]\n",
      "por           [12, 13, 14, 15]\n",
      "rank              [1, 2, 3, 2]\n",
      "dtype: object\n"
     ]
    }
   ],
   "source": [
    "disc = {\"name\":['python','c','c++','java'],'por':[12,13,14,15],\"rank\":[1,2,3,2]}\n",
    "var1 = pd.Series(disc)\n",
    "print(var1)"
   ]
  },
  {
   "cell_type": "code",
   "execution_count": 5,
   "id": "88af271e-d247-4a3c-9251-b5f3c1e74c2c",
   "metadata": {},
   "outputs": [
    {
     "name": "stdout",
     "output_type": "stream",
     "text": [
      "1    12\n",
      "2    12\n",
      "3    12\n",
      "4    12\n",
      "5    12\n",
      "6    12\n",
      "7    12\n",
      "dtype: int64\n",
      "<class 'pandas.core.series.Series'>\n"
     ]
    }
   ],
   "source": [
    "s = pd.Series(12,index =[1,2,3,4,5,6,7])\n",
    "print(s)\n",
    "print(type(s))"
   ]
  },
  {
   "cell_type": "code",
   "execution_count": 6,
   "id": "816b46d6-5a5c-4ee3-9a2a-b5b4da152471",
   "metadata": {},
   "outputs": [
    {
     "name": "stdout",
     "output_type": "stream",
     "text": [
      "1    24.0\n",
      "2    24.0\n",
      "3    24.0\n",
      "4    24.0\n",
      "5     NaN\n",
      "6     NaN\n",
      "7     NaN\n",
      "dtype: float64\n"
     ]
    }
   ],
   "source": [
    "s1 = pd.Series(12,index = [1,2,3,4,5,6,7])\n",
    "s2 = pd.Series(12,index = [1,2,3,4])\n",
    "print(s1+s2)"
   ]
  }
 ],
 "metadata": {
  "kernelspec": {
   "display_name": "Python 3 (ipykernel)",
   "language": "python",
   "name": "python3"
  },
  "language_info": {
   "codemirror_mode": {
    "name": "ipython",
    "version": 3
   },
   "file_extension": ".py",
   "mimetype": "text/x-python",
   "name": "python",
   "nbconvert_exporter": "python",
   "pygments_lexer": "ipython3",
   "version": "3.13.2"
  }
 },
 "nbformat": 4,
 "nbformat_minor": 5
}
